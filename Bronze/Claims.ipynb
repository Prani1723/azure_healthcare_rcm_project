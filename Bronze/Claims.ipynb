{
 "cells": [
  {
   "cell_type": "code",
   "execution_count": 0,
   "metadata": {
    "application/vnd.databricks.v1+cell": {
     "cellMetadata": {
      "byteLimit": 2048000,
      "rowLimit": 10000
     },
     "inputWidgets": {},
     "nuid": "f88be424-0016-4895-b342-264804482571",
     "showTitle": false,
     "tableResultSettingsMap": {},
     "title": ""
    }
   },
   "outputs": [],
   "source": [
    "# Databricks notebook source\n",
    "from pyspark.sql import SparkSession, functions as f\n",
    "\n",
    "claims_df=spark.read.csv(\"/mnt/landing/claims/*.csv\",header=True)\n",
    "\n",
    "claims_df = claims_df.withColumn(\n",
    "    \"datasource\",\n",
    "    f.when(f.input_file_name().contains(\"hospital1\"), \"hosa\").when(f.input_file_name().contains(\"hospital2\"), \"hosb\")\n",
    "     .otherwise(None)\n",
    ")\n",
    "\n",
    "display(claims_df)\n",
    "\n"
   ]
  },
  {
   "cell_type": "code",
   "execution_count": 0,
   "metadata": {
    "application/vnd.databricks.v1+cell": {
     "cellMetadata": {
      "byteLimit": 2048000,
      "rowLimit": 10000
     },
     "inputWidgets": {},
     "nuid": "23185408-06b8-44a3-9a57-dae78b8b4198",
     "showTitle": false,
     "tableResultSettingsMap": {},
     "title": ""
    }
   },
   "outputs": [],
   "source": [
    "# COMMAND ----------\n",
    "\n",
    "# DBTITLE 1,Parquet file creation\n",
    "claims_df.write.format(\"parquet\").mode(\"overwrite\").save(\"/mnt/bronze/claims/\")\n",
    "\n",
    "# COMMAND ----------\n",
    "\n",
    "claims_df.createOrReplaceTempView(\"claims\")\n",
    "\n"
   ]
  },
  {
   "cell_type": "code",
   "execution_count": 0,
   "metadata": {
    "application/vnd.databricks.v1+cell": {
     "cellMetadata": {
      "byteLimit": 2048000,
      "rowLimit": 10000
     },
     "inputWidgets": {},
     "nuid": "25a587d0-4275-4c0c-ba1f-3f30ddd70d53",
     "showTitle": false,
     "tableResultSettingsMap": {},
     "title": ""
    }
   },
   "outputs": [],
   "source": [
    "#Reading Hospital A patient data\n",
    "df_claims=spark.read.parquet(\"dbfs:/mnt/bronze/claims/\")\n",
    "df_claims.createOrReplaceTempView(\"claims\")\n"
   ]
  },
  {
   "cell_type": "code",
   "execution_count": 0,
   "metadata": {
    "application/vnd.databricks.v1+cell": {
     "cellMetadata": {
      "byteLimit": 2048000,
      "rowLimit": 10000
     },
     "inputWidgets": {},
     "nuid": "9933b217-ec95-49ce-875c-69a701321ccb",
     "showTitle": false,
     "tableResultSettingsMap": {},
     "title": ""
    }
   },
   "outputs": [],
   "source": [
    "display(df_claims)"
   ]
  },
  {
   "cell_type": "code",
   "execution_count": 0,
   "metadata": {
    "application/vnd.databricks.v1+cell": {
     "cellMetadata": {
      "byteLimit": 2048000,
      "implicitDf": true,
      "rowLimit": 10000
     },
     "inputWidgets": {},
     "nuid": "e4ccd386-d10d-427a-8c51-cc2d6f5c5d1f",
     "showTitle": false,
     "tableResultSettingsMap": {},
     "title": ""
    }
   },
   "outputs": [],
   "source": [
    " %sql\n",
    " \n",
    " CREATE OR REPLACE TEMP VIEW quality_checks AS\n",
    " SELECT \n",
    "  CONCAT(ClaimID,'-', datasource) AS ClaimID,\n",
    " ClaimID AS  SRC_ClaimID,\n",
    " TransactionID,\n",
    " PatientID,\n",
    " EncounterID,\n",
    " ProviderID,\n",
    " DeptID,\n",
    " cast(ServiceDate as date) ServiceDate,\n",
    " cast(ClaimDate as date) ClaimDate,\n",
    " PayorID,\n",
    " ClaimAmount,\n",
    " PaidAmount,\n",
    " ClaimStatus,\n",
    " PayorType,\n",
    " Deductible,\n",
    " Coinsurance,\n",
    " Copay,\n",
    " cast(InsertDate as date) as SRC_InsertDate,\n",
    " cast(ModifiedDate as date) as SRC_ModifiedDate,\n",
    " datasource,\n",
    "     CASE \n",
    "         WHEN ClaimID IS NULL OR TransactionID IS NULL OR PatientID IS NULL or ServiceDate IS NULL THEN TRUE\n",
    "         ELSE FALSE\n",
    "     END AS is_quarantined\n",
    " FROM claims\n"
   ]
  },
  {
   "cell_type": "code",
   "execution_count": 0,
   "metadata": {
    "application/vnd.databricks.v1+cell": {
     "cellMetadata": {
      "byteLimit": 2048000,
      "implicitDf": true,
      "rowLimit": 10000
     },
     "inputWidgets": {},
     "nuid": "750c7c08-32fa-48ec-bf21-55f269d07f5d",
     "showTitle": false,
     "tableResultSettingsMap": {},
     "title": ""
    }
   },
   "outputs": [],
   "source": [
    "%sql\n",
    "\n",
    " select * from quality_checks"
   ]
  },
  {
   "cell_type": "code",
   "execution_count": 0,
   "metadata": {
    "application/vnd.databricks.v1+cell": {
     "cellMetadata": {
      "byteLimit": 2048000,
      "implicitDf": true,
      "rowLimit": 10000
     },
     "inputWidgets": {},
     "nuid": "d248ba10-0b23-41ac-b206-83eff817850c",
     "showTitle": false,
     "tableResultSettingsMap": {},
     "title": ""
    }
   },
   "outputs": [],
   "source": [
    "\n",
    "\n",
    "\n",
    " %sql\n",
    " \n",
    " CREATE TABLE IF NOT EXISTS silver.claims (\n",
    " ClaimID string,\n",
    " SRC_ClaimID string,\n",
    " TransactionID string,\n",
    " PatientID string,\n",
    " EncounterID string,\n",
    " ProviderID string,\n",
    " DeptID string,\n",
    " ServiceDate date,\n",
    " ClaimDate date,\n",
    " PayorID string,\n",
    " ClaimAmount string,\n",
    " PaidAmount string,\n",
    " ClaimStatus string,\n",
    " PayorType string,\n",
    " Deductible string,\n",
    " Coinsurance string,\n",
    " Copay string,\n",
    " SRC_InsertDate date,\n",
    " SRC_ModifiedDate date,\n",
    " datasource string,\n",
    " is_quarantined boolean,\n",
    " audit_insertdate timestamp,\n",
    " audit_modifieddate timestamp,\n",
    " is_current boolean\n",
    " )\n",
    " USING DELTA;"
   ]
  },
  {
   "cell_type": "code",
   "execution_count": 0,
   "metadata": {
    "application/vnd.databricks.v1+cell": {
     "cellMetadata": {
      "byteLimit": 2048000,
      "implicitDf": true,
      "rowLimit": 10000
     },
     "inputWidgets": {},
     "nuid": "79973161-eaeb-4874-94e1-cac47f1a5b4e",
     "showTitle": false,
     "tableResultSettingsMap": {},
     "title": ""
    }
   },
   "outputs": [],
   "source": [
    "\n",
    " %sql\n",
    " -- Update old record to implement SCD Type 2\n",
    " MERGE INTO silver.claims AS target\n",
    " USING quality_checks AS source\n",
    " ON target.ClaimID = source.ClaimID AND target.is_current = true\n",
    " WHEN MATCHED AND (\n",
    "     target.SRC_ClaimID != source.SRC_ClaimID OR\n",
    "     target.TransactionID != source.TransactionID OR\n",
    "     target.PatientID != source.PatientID OR\n",
    "     target.EncounterID != source.EncounterID OR\n",
    "     target.ProviderID != source.ProviderID OR\n",
    "     target.DeptID != source.DeptID OR\n",
    "     target.ServiceDate != source.ServiceDate OR\n",
    "     target.ClaimDate != source.ClaimDate OR\n",
    "     target.PayorID != source.PayorID OR\n",
    "     target.ClaimAmount != source.ClaimAmount OR\n",
    "     target.PaidAmount != source.PaidAmount OR\n",
    "     target.ClaimStatus != source.ClaimStatus OR\n",
    "     target.PayorType != source.PayorType OR\n",
    "     target.Deductible != source.Deductible OR\n",
    "     target.Coinsurance != source.Coinsurance OR\n",
    "     target.Copay != source.Copay OR\n",
    "     target.SRC_InsertDate != source.SRC_InsertDate OR\n",
    "     target.SRC_ModifiedDate != source.SRC_ModifiedDate OR\n",
    "     target.datasource != source.datasource OR\n",
    "     target.is_quarantined != source.is_quarantined\n",
    " ) THEN\n",
    "   UPDATE SET\n",
    "     target.is_current = false,\n",
    "     target.audit_modifieddate = current_timestamp()\n"
   ]
  },
  {
   "cell_type": "code",
   "execution_count": 0,
   "metadata": {
    "application/vnd.databricks.v1+cell": {
     "cellMetadata": {
      "byteLimit": 2048000,
      "implicitDf": true,
      "rowLimit": 10000
     },
     "inputWidgets": {},
     "nuid": "4ad93d3f-01fb-4b29-868a-9fbc207cd29c",
     "showTitle": false,
     "tableResultSettingsMap": {},
     "title": ""
    }
   },
   "outputs": [],
   "source": [
    "\n",
    "\n",
    " %sql\n",
    " -- Insert new record to implement SCD Type 2\n",
    " MERGE INTO silver.claims AS target\n",
    " USING quality_checks AS source\n",
    " ON target.ClaimID = source.ClaimID AND target.is_current = true\n",
    " WHEN NOT MATCHED THEN\n",
    "   INSERT (\n",
    "     ClaimID,\n",
    "     SRC_ClaimID,\n",
    "     TransactionID,\n",
    "     PatientID,\n",
    "     EncounterID,\n",
    "     ProviderID,\n",
    "     DeptID,\n",
    "     ServiceDate,\n",
    "     ClaimDate,\n",
    "     PayorID,\n",
    "     ClaimAmount,\n",
    "     PaidAmount,\n",
    "     ClaimStatus,\n",
    "     PayorType,\n",
    "     Deductible,\n",
    "     Coinsurance,\n",
    "     Copay,\n",
    "     SRC_InsertDate,\n",
    "     SRC_ModifiedDate,\n",
    "     datasource,\n",
    "     is_quarantined,\n",
    "     audit_insertdate,\n",
    "     audit_modifieddate,\n",
    "     is_current\n",
    "   )\n",
    "   VALUES (\n",
    "     source.ClaimID,\n",
    "     source.SRC_ClaimID,\n",
    "     source.TransactionID,\n",
    "     source.PatientID,\n",
    "     source.EncounterID,\n",
    "     source.ProviderID,\n",
    "     source.DeptID,\n",
    "     source.ServiceDate,\n",
    "     source.ClaimDate,\n",
    "     source.PayorID,\n",
    "     source.ClaimAmount,\n",
    "     source.PaidAmount,\n",
    "     source.ClaimStatus,\n",
    "     source.PayorType,\n",
    "     source.Deductible,\n",
    "     source.Coinsurance,\n",
    "     source.Copay,\n",
    "     source.SRC_InsertDate,\n",
    "     source.SRC_ModifiedDate,\n",
    "     source.datasource,\n",
    "     source.is_quarantined,\n",
    "     current_timestamp(),\n",
    "     current_timestamp(),\n",
    "     true\n",
    "   );\n",
    "\n"
   ]
  }
 ],
 "metadata": {
  "application/vnd.databricks.v1+notebook": {
   "computePreferences": null,
   "dashboards": [],
   "environmentMetadata": {
    "base_environment": "",
    "environment_version": "2"
   },
   "language": "python",
   "notebookMetadata": {
    "mostRecentlyExecutedCommandWithImplicitDF": {
     "commandId": 5482710249162639,
     "dataframes": [
      "_sqldf"
     ]
    },
    "pythonIndentUnit": 4
   },
   "notebookName": "Claims",
   "widgets": {}
  },
  "language_info": {
   "name": "python"
  }
 },
 "nbformat": 4,
 "nbformat_minor": 0
}
