{
 "cells": [
  {
   "cell_type": "code",
   "execution_count": 0,
   "metadata": {
    "application/vnd.databricks.v1+cell": {
     "cellMetadata": {
      "byteLimit": 2048000,
      "rowLimit": 10000
     },
     "inputWidgets": {},
     "nuid": "12dc1042-4877-43a4-a579-140df86597e3",
     "showTitle": false,
     "tableResultSettingsMap": {},
     "title": ""
    }
   },
   "outputs": [],
   "source": [
    "# Databricks notebook source\n",
    "from pyspark.sql import SparkSession, functions as f\n",
    "\n",
    "# Read the CSV file\n",
    "cptcodes_df = spark.read.csv(\"/mnt/landing/cptcodes/*.csv\", header=True)\n",
    "\n",
    "# Replace whitespaces in column names with underscores and convert to lowercase\n",
    "for col in cptcodes_df.columns:\n",
    "    new_col = col.replace(\" \", \"_\").lower()\n",
    "    cptcodes_df = cptcodes_df.withColumnRenamed(col, new_col)\n",
    "cptcodes_df.createOrReplaceTempView(\"cptcodes\")\n",
    "display(cptcodes_df)\n",
    "\n",
    "# COMMAND ----------\n",
    "\n",
    "# DBTITLE 1,Parquet file creation\n",
    "cptcodes_df.write.format(\"parquet\").mode(\"overwrite\").save(\"/mnt/bronze/cpt_codes\")\n"
   ]
  },
  {
   "cell_type": "code",
   "execution_count": 0,
   "metadata": {
    "application/vnd.databricks.v1+cell": {
     "cellMetadata": {
      "byteLimit": 2048000,
      "rowLimit": 10000
     },
     "inputWidgets": {},
     "nuid": "2041b1c5-0ec9-4c65-a616-cf1bea50da5b",
     "showTitle": false,
     "tableResultSettingsMap": {},
     "title": ""
    }
   },
   "outputs": [],
   "source": [
    "df_cpt=spark.read.parquet(\"/mnt/bronze/cpt_codes/\")\n",
    "df_cpt.createOrReplaceTempView(\"cpt_codes\")"
   ]
  },
  {
   "cell_type": "code",
   "execution_count": 0,
   "metadata": {
    "application/vnd.databricks.v1+cell": {
     "cellMetadata": {
      "byteLimit": 2048000,
      "implicitDf": true,
      "rowLimit": 10000
     },
     "inputWidgets": {},
     "nuid": "b3f73c1a-e736-4560-9580-6141df8b4f85",
     "showTitle": false,
     "tableResultSettingsMap": {},
     "title": ""
    }
   },
   "outputs": [],
   "source": [
    " %sql\n",
    " CREATE OR REPLACE TEMP VIEW quality_checks AS\n",
    " SELECT \n",
    "  cpt_codes,\n",
    "  procedure_code_category,\n",
    "  procedure_code_descriptions,\n",
    "  code_status,\n",
    "     CASE \n",
    "         WHEN cpt_codes IS NULL OR procedure_code_descriptions IS NULL  THEN TRUE\n",
    "         ELSE FALSE\n",
    "     END AS is_quarantined\n",
    " FROM cpt_codes"
   ]
  },
  {
   "cell_type": "code",
   "execution_count": 0,
   "metadata": {
    "application/vnd.databricks.v1+cell": {
     "cellMetadata": {
      "byteLimit": 2048000,
      "implicitDf": true,
      "rowLimit": 10000
     },
     "inputWidgets": {},
     "nuid": "e0f76ea3-7551-45cf-91c8-f022e189c284",
     "showTitle": false,
     "tableResultSettingsMap": {},
     "title": ""
    }
   },
   "outputs": [],
   "source": [
    "\n",
    " %sql\n",
    " CREATE TABLE IF NOT EXISTS silver.cptcodes (\n",
    " cpt_codes string,\n",
    " procedure_code_category string,\n",
    " procedure_code_descriptions string,\n",
    " code_status string,\n",
    " is_quarantined boolean,\n",
    " audit_insertdate timestamp,\n",
    " audit_modifieddate timestamp,\n",
    " is_current boolean\n",
    " )\n",
    " USING DELTA;"
   ]
  },
  {
   "cell_type": "code",
   "execution_count": 0,
   "metadata": {
    "application/vnd.databricks.v1+cell": {
     "cellMetadata": {
      "byteLimit": 2048000,
      "implicitDf": true,
      "rowLimit": 10000
     },
     "inputWidgets": {},
     "nuid": "c716879e-c650-4145-9649-d1b870a8a5f7",
     "showTitle": false,
     "tableResultSettingsMap": {},
     "title": ""
    }
   },
   "outputs": [],
   "source": [
    " %sql\n",
    " -- Update old record to implement SCD Type 2\n",
    " MERGE INTO silver.cptcodes AS target\n",
    " USING quality_checks AS source\n",
    " ON target.cpt_codes = source.cpt_codes AND target.is_current = true\n",
    " WHEN MATCHED AND (\n",
    "     target.procedure_code_category != source.procedure_code_category OR\n",
    "     target.procedure_code_descriptions != source.procedure_code_descriptions OR\n",
    "     target.code_status != source.code_status OR\n",
    "     target.is_quarantined != source.is_quarantined\n",
    " ) THEN\n",
    "   UPDATE SET\n",
    "     target.is_current = false,\n",
    "     target.audit_modifieddate = current_timestamp()\n"
   ]
  },
  {
   "cell_type": "code",
   "execution_count": 0,
   "metadata": {
    "application/vnd.databricks.v1+cell": {
     "cellMetadata": {
      "byteLimit": 2048000,
      "implicitDf": true,
      "rowLimit": 10000
     },
     "inputWidgets": {},
     "nuid": "7cc975f8-b8ae-4cd8-8182-3fab8090f3cc",
     "showTitle": false,
     "tableResultSettingsMap": {},
     "title": ""
    }
   },
   "outputs": [],
   "source": [
    " %sql\n",
    " -- Insert new record to implement SCD Type 2\n",
    " MERGE INTO silver.cptcodes AS target\n",
    " USING quality_checks AS source\n",
    " ON target.cpt_codes = source.cpt_codes AND target.is_current = true\n",
    " WHEN NOT MATCHED THEN\n",
    "   INSERT (\n",
    "     cpt_codes,\n",
    "     procedure_code_category,\n",
    "     procedure_code_descriptions,\n",
    "     code_status,\n",
    "     is_quarantined,\n",
    "     audit_insertdate,\n",
    "     audit_modifieddate,\n",
    "     is_current\n",
    "   )\n",
    "   VALUES (\n",
    "     source.cpt_codes,\n",
    "     source.procedure_code_category,\n",
    "     source.procedure_code_descriptions,\n",
    "     source.code_status,\n",
    "     source.is_quarantined,\n",
    "     current_timestamp(),\n",
    "     current_timestamp(),\n",
    "     true\n",
    "   );"
   ]
  }
 ],
 "metadata": {
  "application/vnd.databricks.v1+notebook": {
   "computePreferences": null,
   "dashboards": [],
   "environmentMetadata": {
    "base_environment": "",
    "environment_version": "2"
   },
   "language": "python",
   "notebookMetadata": {
    "mostRecentlyExecutedCommandWithImplicitDF": {
     "commandId": 5514499228730227,
     "dataframes": [
      "_sqldf"
     ]
    },
    "pythonIndentUnit": 4
   },
   "notebookName": "CPT codes",
   "widgets": {}
  },
  "language_info": {
   "name": "python"
  }
 },
 "nbformat": 4,
 "nbformat_minor": 0
}
