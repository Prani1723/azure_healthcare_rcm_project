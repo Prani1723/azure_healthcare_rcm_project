{
 "cells": [
  {
   "cell_type": "code",
   "execution_count": 0,
   "metadata": {
    "application/vnd.databricks.v1+cell": {
     "cellMetadata": {},
     "inputWidgets": {},
     "nuid": "ae3f88d4-faf3-4695-a9c8-c00daf542fd6",
     "showTitle": false,
     "tableResultSettingsMap": {},
     "title": ""
    }
   },
   "outputs": [],
   "source": [
    "%sql\n",
    "--Total Charge Amount per provider by department\n",
    "\n",
    "\n",
    "select\n",
    "  concat(p.firstname, ' ', p.LastName) Provider_Name,\n",
    "  dd.Name Dept_Name,\n",
    "  sum(ft.Amount)\n",
    "from\n",
    "  gold.fact_transactions ft\n",
    "  left join gold.dim_provider p on p.ProviderID = ft.FK_ProviderID\n",
    "  left join gold.dim_departments dd on dd.Dept_Id = p.DeptID\n",
    "group by\n",
    "  all \n",
    "\n",
    "\n",
    "\n",
    "--Total Charge Amount per provider by department for each month for year 2024\n",
    "select\n",
    "  concat(p.firstname, ' ', p.LastName) Provider_Name,\n",
    "  dd.Name Dept_Name,\n",
    "  date_format(servicedate, 'yyyyMM') YYYYMM,\n",
    "  sum(ft.Amount) Total_Charge_Amt,\n",
    "  sum(ft.paidamount) Total_Paid_Amt\n",
    "from\n",
    "  gold.fact_transactions ft\n",
    "  left join gold.dim_provider p on p.ProviderID = ft.FK_ProviderID\n",
    "  left join gold.dim_departments dd on dd.Dept_Id = p.DeptID\n",
    "where\n",
    "  year(ft.ServiceDate) = 2024\n",
    "group by\n",
    "  all\n",
    "order by\n",
    "  1,\n",
    "  3\n",
    "  "
   ]
  }
 ],
 "metadata": {
  "application/vnd.databricks.v1+notebook": {
   "computePreferences": null,
   "dashboards": [],
   "environmentMetadata": {
    "base_environment": "",
    "environment_version": "2"
   },
   "language": "python",
   "notebookMetadata": {
    "mostRecentlyExecutedCommandWithImplicitDF": {
     "commandId": 6782657450609488,
     "dataframes": [
      "_sqldf"
     ]
    },
    "pythonIndentUnit": 4
   },
   "notebookName": "Gold_Fact_Queries_",
   "widgets": {}
  },
  "language_info": {
   "name": "python"
  }
 },
 "nbformat": 4,
 "nbformat_minor": 0
}
