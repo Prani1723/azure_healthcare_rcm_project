{
 "cells": [
  {
   "cell_type": "code",
   "execution_count": 0,
   "metadata": {
    "application/vnd.databricks.v1+cell": {
     "cellMetadata": {
      "byteLimit": 2048000,
      "rowLimit": 10000
     },
     "inputWidgets": {},
     "nuid": "1f627dea-d72f-4a52-970b-3a12ce9e7da0",
     "showTitle": false,
     "tableResultSettingsMap": {},
     "title": ""
    }
   },
   "outputs": [],
   "source": [
    "#Reading Hospital A patient data\n",
    "df_hosa=spark.read.parquet(\"/mnt/bronze/hosa/encounters\")\n",
    "df_hosa.createOrReplaceTempView(\"encounters_hosa\")\n",
    "\n",
    "#Reading Hospital B patient data\n",
    "df_hosb=spark.read.parquet(\"/mnt/bronze/hosb/encounters\")\n",
    "df_hosb.createOrReplaceTempView(\"encounters_hosb\")"
   ]
  },
  {
   "cell_type": "code",
   "execution_count": 0,
   "metadata": {
    "application/vnd.databricks.v1+cell": {
     "cellMetadata": {
      "byteLimit": 2048000,
      "rowLimit": 10000
     },
     "inputWidgets": {},
     "nuid": "5188e1c5-a139-4b46-8739-983d8f8a481b",
     "showTitle": false,
     "tableResultSettingsMap": {},
     "title": ""
    }
   },
   "outputs": [],
   "source": [
    "df_merged = df_hosa.unionByName(df_hosb)\n",
    "df_merged.createOrReplaceTempView(\"encounters\")"
   ]
  },
  {
   "cell_type": "code",
   "execution_count": 0,
   "metadata": {
    "application/vnd.databricks.v1+cell": {
     "cellMetadata": {
      "byteLimit": 2048000,
      "implicitDf": true,
      "rowLimit": 10000
     },
     "inputWidgets": {},
     "nuid": "d79c6c33-ee60-422c-b334-434758c90649",
     "showTitle": false,
     "tableResultSettingsMap": {},
     "title": ""
    }
   },
   "outputs": [],
   "source": [
    "\n",
    "\n",
    " %sql\n",
    "\n",
    " CREATE OR REPLACE TEMP VIEW quality_checks AS\n",
    " SELECT \n",
    " concat(EncounterID,'-',datasource) as EncounterID,\n",
    " EncounterID as SRC_EncounterID,\n",
    " PatientID,\n",
    " EncounterDate,\n",
    " EncounterType,\n",
    " ProviderID,\n",
    " DepartmentID,\n",
    " ProcedureCode,\n",
    " InsertedDate as SRC_InsertedDate,\n",
    " ModifiedDate as SRC_ModifiedDate,\n",
    " datasource,\n",
    "     CASE \n",
    "         WHEN EncounterID IS NULL OR PatientID IS NULL THEN TRUE\n",
    "         ELSE FALSE\n",
    "     END AS is_quarantined\n",
    " FROM encounters"
   ]
  },
  {
   "cell_type": "code",
   "execution_count": 0,
   "metadata": {
    "application/vnd.databricks.v1+cell": {
     "cellMetadata": {
      "byteLimit": 2048000,
      "implicitDf": true,
      "rowLimit": 10000
     },
     "inputWidgets": {},
     "nuid": "3c508745-4d67-4fe0-bb94-c99fef6dd879",
     "showTitle": false,
     "tableResultSettingsMap": {},
     "title": ""
    }
   },
   "outputs": [],
   "source": [
    "\n",
    "\n",
    "%sql\n",
    "select * from quality_checks\n",
    "where datasource='hos-a'"
   ]
  },
  {
   "cell_type": "code",
   "execution_count": 0,
   "metadata": {
    "application/vnd.databricks.v1+cell": {
     "cellMetadata": {
      "byteLimit": 2048000,
      "implicitDf": true,
      "rowLimit": 10000
     },
     "inputWidgets": {},
     "nuid": "da42681c-0f28-41cc-bc5b-d5577bd25d40",
     "showTitle": false,
     "tableResultSettingsMap": {},
     "title": ""
    }
   },
   "outputs": [],
   "source": [
    "\n",
    "\n",
    " %sql\n",
    " \n",
    " CREATE TABLE IF NOT EXISTS silver.encounters (\n",
    " EncounterID string,\n",
    " SRC_EncounterID string,\n",
    " PatientID string,\n",
    " EncounterDate date,\n",
    " EncounterType string,\n",
    " ProviderID string,\n",
    " DepartmentID string,\n",
    " ProcedureCode integer,\n",
    " SRC_InsertedDate date,\n",
    " SRC_ModifiedDate date,\n",
    " datasource string,\n",
    " is_quarantined boolean,\n",
    " audit_insertdate timestamp,\n",
    " audit_modifieddate timestamp,\n",
    " is_current boolean\n",
    " )\n",
    " USING DELTA;"
   ]
  },
  {
   "cell_type": "code",
   "execution_count": 0,
   "metadata": {
    "application/vnd.databricks.v1+cell": {
     "cellMetadata": {
      "byteLimit": 2048000,
      "implicitDf": true,
      "rowLimit": 10000
     },
     "inputWidgets": {},
     "nuid": "83860799-af90-439f-b77c-5e681dbe922b",
     "showTitle": false,
     "tableResultSettingsMap": {},
     "title": ""
    }
   },
   "outputs": [],
   "source": [
    "\n",
    "\n",
    "%sql\n",
    "\n",
    "-- Update old record to implement SCD Type 2\n",
    "MERGE INTO silver.encounters AS target\n",
    "USING quality_checks AS source\n",
    "ON target.EncounterID = source.EncounterID AND target.is_current = true\n",
    "WHEN MATCHED AND (\n",
    "    target.SRC_EncounterID != source.SRC_EncounterID OR\n",
    "    target.PatientID != source.PatientID OR\n",
    "    target.EncounterDate != source.EncounterDate OR\n",
    "    target.EncounterType != source.EncounterType OR\n",
    "    target.ProviderID != source.ProviderID OR\n",
    "    target.DepartmentID != source.DepartmentID OR\n",
    "    target.ProcedureCode != source.ProcedureCode OR\n",
    "    target.SRC_InsertedDate != source.SRC_InsertedDate OR\n",
    "    target.SRC_ModifiedDate != source.SRC_ModifiedDate OR\n",
    "    target.datasource != source.datasource OR\n",
    "    target.is_quarantined != source.is_quarantined\n",
    ") THEN\n",
    "  UPDATE SET\n",
    "    target.is_current = false,\n",
    "    target.audit_modifieddate = current_timestamp()\n"
   ]
  },
  {
   "cell_type": "code",
   "execution_count": 0,
   "metadata": {
    "application/vnd.databricks.v1+cell": {
     "cellMetadata": {
      "byteLimit": 2048000,
      "implicitDf": true,
      "rowLimit": 10000
     },
     "inputWidgets": {},
     "nuid": "5125a76f-1f19-4654-9490-459fb5b713bb",
     "showTitle": false,
     "tableResultSettingsMap": {},
     "title": ""
    }
   },
   "outputs": [],
   "source": [
    "\n",
    "\n",
    " %sql\n",
    " -- Insert new record to implement SCD Type 2\n",
    " MERGE INTO silver.encounters AS target USING quality_checks AS source ON target.EncounterID = source.EncounterID\n",
    " AND target.is_current = true\n",
    " WHEN NOT MATCHED THEN\n",
    " INSERT\n",
    "   (\n",
    "     EncounterID,\n",
    "     SRC_EncounterID,\n",
    "     PatientID,\n",
    "     EncounterDate,\n",
    "     EncounterType,\n",
    "     ProviderID,\n",
    "     DepartmentID,\n",
    "     ProcedureCode,\n",
    "     SRC_InsertedDate,\n",
    "     SRC_ModifiedDate,\n",
    "     datasource,\n",
    "     is_quarantined,\n",
    "     audit_insertdate,\n",
    "     audit_modifieddate,\n",
    "     is_current\n",
    "   )\n",
    " VALUES\n",
    "   (\n",
    "     source.EncounterID,\n",
    "     source.SRC_EncounterID,\n",
    "     source.PatientID,\n",
    "     source.EncounterDate,\n",
    "     source.EncounterType,\n",
    "     source.ProviderID,\n",
    "     source.DepartmentID,\n",
    "     source.ProcedureCode,\n",
    "     source.SRC_InsertedDate,\n",
    "     source.SRC_ModifiedDate,\n",
    "     source.datasource,\n",
    "     source.is_quarantined,\n",
    "     current_timestamp(),\n",
    "     current_timestamp(),\n",
    "     true\n",
    "   );\n",
    "\n",
    "\n",
    "\n"
   ]
  },
  {
   "cell_type": "code",
   "execution_count": 0,
   "metadata": {
    "application/vnd.databricks.v1+cell": {
     "cellMetadata": {
      "byteLimit": 2048000,
      "implicitDf": true,
      "rowLimit": 10000
     },
     "inputWidgets": {},
     "nuid": "6da95702-c4cc-4efe-a81e-4119366b9791",
     "showTitle": false,
     "tableResultSettingsMap": {},
     "title": ""
    }
   },
   "outputs": [],
   "source": [
    " %sql\n",
    " select * from  silver.encounters where is_quarantined=true\n"
   ]
  },
  {
   "cell_type": "code",
   "execution_count": 0,
   "metadata": {
    "application/vnd.databricks.v1+cell": {
     "cellMetadata": {},
     "inputWidgets": {},
     "nuid": "03ca662c-226b-4a91-9af8-fc24dfd46c0a",
     "showTitle": false,
     "tableResultSettingsMap": {},
     "title": ""
    }
   },
   "outputs": [],
   "source": []
  },
  {
   "cell_type": "code",
   "execution_count": 0,
   "metadata": {
    "application/vnd.databricks.v1+cell": {
     "cellMetadata": {},
     "inputWidgets": {},
     "nuid": "86c2b05f-bee9-40d6-872c-7d3cec73b46c",
     "showTitle": false,
     "tableResultSettingsMap": {},
     "title": ""
    }
   },
   "outputs": [],
   "source": []
  },
  {
   "cell_type": "code",
   "execution_count": 0,
   "metadata": {
    "application/vnd.databricks.v1+cell": {
     "cellMetadata": {},
     "inputWidgets": {},
     "nuid": "85a9131d-4a72-4c84-bffa-c28564db6d7f",
     "showTitle": false,
     "tableResultSettingsMap": {},
     "title": ""
    }
   },
   "outputs": [],
   "source": []
  },
  {
   "cell_type": "code",
   "execution_count": 0,
   "metadata": {
    "application/vnd.databricks.v1+cell": {
     "cellMetadata": {},
     "inputWidgets": {},
     "nuid": "840789e1-7f29-4820-8dda-af2a98e298d5",
     "showTitle": false,
     "tableResultSettingsMap": {},
     "title": ""
    }
   },
   "outputs": [],
   "source": []
  },
  {
   "cell_type": "code",
   "execution_count": 0,
   "metadata": {
    "application/vnd.databricks.v1+cell": {
     "cellMetadata": {},
     "inputWidgets": {},
     "nuid": "6556602a-4f16-4ae9-8f9b-2791dccb01dc",
     "showTitle": false,
     "tableResultSettingsMap": {},
     "title": ""
    }
   },
   "outputs": [],
   "source": []
  }
 ],
 "metadata": {
  "application/vnd.databricks.v1+notebook": {
   "computePreferences": null,
   "dashboards": [],
   "environmentMetadata": {
    "base_environment": "",
    "environment_version": "2"
   },
   "language": "python",
   "notebookMetadata": {
    "mostRecentlyExecutedCommandWithImplicitDF": {
     "commandId": 7827620141218003,
     "dataframes": [
      "_sqldf"
     ]
    },
    "pythonIndentUnit": 4
   },
   "notebookName": "Encounters",
   "widgets": {}
  },
  "language_info": {
   "name": "python"
  }
 },
 "nbformat": 4,
 "nbformat_minor": 0
}
