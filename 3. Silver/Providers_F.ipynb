{
 "cells": [
  {
   "cell_type": "code",
   "execution_count": 0,
   "metadata": {
    "application/vnd.databricks.v1+cell": {
     "cellMetadata": {
      "byteLimit": 2048000,
      "rowLimit": 10000
     },
     "inputWidgets": {},
     "nuid": "a23a6a24-fa19-4ef4-8c2c-2102f556364a",
     "showTitle": false,
     "tableResultSettingsMap": {},
     "title": ""
    }
   },
   "outputs": [],
   "source": [
    "from pyspark.sql import SparkSession, functions as f\n",
    "\n",
    "#Reading Hospital A departments data\n",
    "df_hosa= spark.read.parquet(\"dbfs:/mnt/bronze/hosa/providers\")\n",
    "\n",
    "#Reading Hospital B departments data\n",
    "df_hosb= spark.read.parquet(\"dbfs:/mnt/bronze/hosb/providers\")\n",
    "\n",
    "#union two departments dataframes\n",
    "df_merged= df_hosa.unionByName(df_hosb)\n",
    "display(df_merged)\n",
    "\n",
    "\n",
    "\n",
    "df_merged.createOrReplaceTempView(\"providers\")"
   ]
  },
  {
   "cell_type": "code",
   "execution_count": 0,
   "metadata": {
    "application/vnd.databricks.v1+cell": {
     "cellMetadata": {
      "byteLimit": 2048000,
      "rowLimit": 10000
     },
     "inputWidgets": {},
     "nuid": "0919658f-636f-4d14-9301-445bf130ade9",
     "showTitle": false,
     "tableResultSettingsMap": {},
     "title": ""
    }
   },
   "outputs": [],
   "source": [
    "display(df_hosa)"
   ]
  },
  {
   "cell_type": "code",
   "execution_count": 0,
   "metadata": {
    "application/vnd.databricks.v1+cell": {
     "cellMetadata": {
      "byteLimit": 2048000,
      "implicitDf": true,
      "rowLimit": 10000
     },
     "inputWidgets": {},
     "nuid": "5e0e71b2-2c8b-4fc0-a72b-cd8e8d231ac6",
     "showTitle": false,
     "tableResultSettingsMap": {},
     "title": ""
    }
   },
   "outputs": [],
   "source": [
    "%sql\n",
    "\n",
    "\n",
    "CREATE TABLE if not exists silver.providers (\n",
    "  ProviderID string,\n",
    "  FirstName string,\n",
    "  LastName string,\n",
    "  Specialization string,\n",
    "  DeptID string,\n",
    "  NPI long,\n",
    "  datasource string,\n",
    "  is_quarantined BOOLEAN\n",
    ")\n",
    "USING DELTA"
   ]
  },
  {
   "cell_type": "code",
   "execution_count": 0,
   "metadata": {
    "application/vnd.databricks.v1+cell": {
     "cellMetadata": {},
     "inputWidgets": {},
     "nuid": "15436ed8-d1a9-4d0f-9688-b07627728c4d",
     "showTitle": false,
     "tableResultSettingsMap": {},
     "title": ""
    }
   },
   "outputs": [],
   "source": [
    "%sql\n",
    "truncate table silver.departments;"
   ]
  },
  {
   "cell_type": "code",
   "execution_count": 0,
   "metadata": {
    "application/vnd.databricks.v1+cell": {
     "cellMetadata": {
      "byteLimit": 2048000,
      "implicitDf": true,
      "rowLimit": 10000
     },
     "inputWidgets": {},
     "nuid": "69eb6c6a-e800-4911-a40e-fe9fbdaadb6b",
     "showTitle": false,
     "tableResultSettingsMap": {},
     "title": ""
    }
   },
   "outputs": [],
   "source": [
    "%sql\n",
    "INSERT INTO silver.providers\n",
    "SELECT distinct\n",
    "    ProviderID,\n",
    "    FirstName,  \n",
    "    LastName,\n",
    "    Specialization,\n",
    "    DeptID,\n",
    "    cast(NPI as INT) as NPI,\n",
    "    datasource,\n",
    "    CASE \n",
    "        WHEN ProviderID IS NULL OR DeptID IS NULL THEN true\n",
    "        ELSE false\n",
    "    END as is_quarantined\n",
    "FROM providers"
   ]
  },
  {
   "cell_type": "code",
   "execution_count": 0,
   "metadata": {
    "application/vnd.databricks.v1+cell": {
     "cellMetadata": {
      "byteLimit": 2048000,
      "implicitDf": true,
      "rowLimit": 10000
     },
     "inputWidgets": {},
     "nuid": "3a82130b-15a2-4297-8033-e40eabbd8d9b",
     "showTitle": false,
     "tableResultSettingsMap": {},
     "title": ""
    }
   },
   "outputs": [],
   "source": [
    "%sql\n",
    "\n",
    "select * from silver.providers "
   ]
  },
  {
   "cell_type": "code",
   "execution_count": 0,
   "metadata": {
    "application/vnd.databricks.v1+cell": {
     "cellMetadata": {},
     "inputWidgets": {},
     "nuid": "ccad4e7e-f700-47dd-be25-f7db851a4631",
     "showTitle": false,
     "tableResultSettingsMap": {},
     "title": ""
    }
   },
   "outputs": [],
   "source": []
  }
 ],
 "metadata": {
  "application/vnd.databricks.v1+notebook": {
   "computePreferences": null,
   "dashboards": [],
   "environmentMetadata": {
    "base_environment": "",
    "environment_version": "2"
   },
   "language": "python",
   "notebookMetadata": {
    "mostRecentlyExecutedCommandWithImplicitDF": {
     "commandId": 8572057793074226,
     "dataframes": [
      "_sqldf"
     ]
    },
    "pythonIndentUnit": 4
   },
   "notebookName": "Providers_F",
   "widgets": {}
  },
  "language_info": {
   "name": "python"
  }
 },
 "nbformat": 4,
 "nbformat_minor": 0
}
