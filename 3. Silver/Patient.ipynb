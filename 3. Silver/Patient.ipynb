{
 "cells": [
  {
   "cell_type": "code",
   "execution_count": 0,
   "metadata": {
    "application/vnd.databricks.v1+cell": {
     "cellMetadata": {
      "byteLimit": 2048000,
      "implicitDf": true,
      "rowLimit": 10000
     },
     "inputWidgets": {},
     "nuid": "11271303-0545-4457-880d-3a18616cff49",
     "showTitle": false,
     "tableResultSettingsMap": {},
     "title": ""
    }
   },
   "outputs": [],
   "source": []
  },
  {
   "cell_type": "code",
   "execution_count": 0,
   "metadata": {
    "application/vnd.databricks.v1+cell": {
     "cellMetadata": {
      "byteLimit": 2048000,
      "rowLimit": 10000
     },
     "inputWidgets": {},
     "nuid": "7bc343f6-ed51-4914-b385-3ee267796b52",
     "showTitle": false,
     "tableResultSettingsMap": {},
     "title": ""
    }
   },
   "outputs": [],
   "source": [
    "#Reading Hospital A patient data\n",
    "df_hosa=spark.read.parquet(\"/mnt/bronze/hosa/patients\")\n",
    "df_hosa.createOrReplaceTempView(\"patients_hosa\")\n",
    "\n",
    "#Reading Hospital B patient data\n",
    "df_hosb=spark.read.parquet(\"/mnt/bronze/hosb/patients\")\n",
    "df_hosb.createOrReplaceTempView(\"patients_hosb\")"
   ]
  },
  {
   "cell_type": "code",
   "execution_count": 0,
   "metadata": {
    "application/vnd.databricks.v1+cell": {
     "cellMetadata": {
      "byteLimit": 2048000,
      "rowLimit": 10000
     },
     "inputWidgets": {},
     "nuid": "97017cf9-73a7-447c-b691-4cc18bef742d",
     "showTitle": false,
     "tableResultSettingsMap": {},
     "title": ""
    }
   },
   "outputs": [],
   "source": [
    "display(df_hosa)"
   ]
  },
  {
   "cell_type": "code",
   "execution_count": 0,
   "metadata": {
    "application/vnd.databricks.v1+cell": {
     "cellMetadata": {
      "byteLimit": 2048000,
      "implicitDf": true,
      "rowLimit": 10000
     },
     "inputWidgets": {},
     "nuid": "a257ee1f-fa4a-49e0-af48-03a35d4c920e",
     "showTitle": false,
     "tableResultSettingsMap": {},
     "title": ""
    }
   },
   "outputs": [],
   "source": [
    "%sql\n",
    "\n",
    "select * from patients_hosa"
   ]
  },
  {
   "cell_type": "code",
   "execution_count": 0,
   "metadata": {
    "application/vnd.databricks.v1+cell": {
     "cellMetadata": {
      "byteLimit": 2048000,
      "implicitDf": true,
      "rowLimit": 10000
     },
     "inputWidgets": {},
     "nuid": "e6c7f68f-0e0b-4a44-a32b-33f51915ad21",
     "showTitle": false,
     "tableResultSettingsMap": {},
     "title": ""
    }
   },
   "outputs": [],
   "source": [
    "%sql\n",
    "\n",
    "select * from patients_hosb"
   ]
  },
  {
   "cell_type": "code",
   "execution_count": 0,
   "metadata": {
    "application/vnd.databricks.v1+cell": {
     "cellMetadata": {
      "byteLimit": 2048000,
      "implicitDf": true,
      "rowLimit": 10000
     },
     "inputWidgets": {},
     "nuid": "8b36c778-a550-4bd2-8fa0-f39de04e4198",
     "showTitle": false,
     "tableResultSettingsMap": {},
     "title": ""
    }
   },
   "outputs": [],
   "source": [
    "%sql\n",
    "\n",
    "CREATE OR REPLACE TEMP VIEW cdm_patients AS\n",
    "SELECT CONCAT(SRC_PatientID,'-', datasource) AS Patient_Key, * \n",
    "from (\n",
    "  select \n",
    "  PatientID as SRC_PatientID,\n",
    "  FirstName,\n",
    "  LastName,\n",
    "  MiddleName,\n",
    "  SSN,\n",
    "  PhoneNumber,\n",
    "  Gender,\n",
    "  DOB,\n",
    "  Address,\n",
    "  ModifiedDate,\n",
    "  datasource\n",
    "  FROM patients_hosa\n",
    "  UNION ALL\n",
    "  select \n",
    "  ID as SRC_PatientID,\n",
    "  F_Name as FirstName,\n",
    "  L_Name as LastName,\n",
    "  M_Name as MiddleName,\n",
    "  SSN,\n",
    "  PhoneNumber,\n",
    "  Gender,\n",
    "  DOB,\n",
    "  Address,\n",
    "  Updated_Date as ModifiedDate,\n",
    "  datasource\n",
    "  from patients_hosb\n",
    "\n",
    ")"
   ]
  },
  {
   "cell_type": "code",
   "execution_count": 0,
   "metadata": {
    "application/vnd.databricks.v1+cell": {
     "cellMetadata": {
      "byteLimit": 2048000,
      "implicitDf": true,
      "rowLimit": 10000
     },
     "inputWidgets": {},
     "nuid": "117a0499-7d3c-4be0-a26a-9399679124cc",
     "showTitle": false,
     "tableResultSettingsMap": {},
     "title": ""
    }
   },
   "outputs": [],
   "source": [
    "%sql\n",
    "\n",
    "select * from cdm_patients"
   ]
  },
  {
   "cell_type": "code",
   "execution_count": 0,
   "metadata": {
    "application/vnd.databricks.v1+cell": {
     "cellMetadata": {
      "byteLimit": 2048000,
      "implicitDf": true,
      "rowLimit": 10000
     },
     "inputWidgets": {},
     "nuid": "519c3825-4e02-4535-abce-b9045b219173",
     "showTitle": false,
     "tableResultSettingsMap": {},
     "title": ""
    }
   },
   "outputs": [],
   "source": [
    "%sql\n",
    "create or replace temp view quality_checks as\n",
    "select \n",
    "    Patient_Key,\n",
    "    SRC_PatientID,\n",
    "    FirstName,\n",
    "    LastName,\n",
    "    MiddleName,\n",
    "    SSN,\n",
    "    PhoneNumber,\n",
    "    Gender,\n",
    "    DOB,\n",
    "    Address,\n",
    "    ModifiedDate As SRC_ModifiedDate,\n",
    "    datasource,\n",
    "    CASE \n",
    "        WHEN SRC_PatientID IS NULL OR DOB IS NULL OR Firstname is null or lower(Firstname)= 'null' then true\n",
    "        else false\n",
    "    end as is_quarantined\n",
    "from cdm_patients\n",
    "    "
   ]
  },
  {
   "cell_type": "code",
   "execution_count": 0,
   "metadata": {
    "application/vnd.databricks.v1+cell": {
     "cellMetadata": {
      "byteLimit": 2048000,
      "implicitDf": true,
      "rowLimit": 10000
     },
     "inputWidgets": {},
     "nuid": "21d3d33a-9efc-4f08-aec1-b95ed27adc37",
     "showTitle": false,
     "tableResultSettingsMap": {},
     "title": ""
    }
   },
   "outputs": [],
   "source": [
    "%sql\n",
    "\n",
    "select * from quality_checks\n",
    "order by is_quarantined desc"
   ]
  },
  {
   "cell_type": "code",
   "execution_count": 0,
   "metadata": {
    "application/vnd.databricks.v1+cell": {
     "cellMetadata": {
      "byteLimit": 2048000,
      "implicitDf": true,
      "rowLimit": 10000
     },
     "inputWidgets": {},
     "nuid": "062fa42d-ada2-4ee3-b019-e227e06b3239",
     "showTitle": false,
     "tableResultSettingsMap": {},
     "title": ""
    }
   },
   "outputs": [],
   "source": [
    " %sql\n",
    " CREATE TABLE IF NOT EXISTS silver.patients (\n",
    "     Patient_Key STRING,\n",
    "     SRC_PatientID STRING,\n",
    "     FirstName STRING,\n",
    "     LastName STRING,\n",
    "     MiddleName STRING,\n",
    "     SSN STRING,\n",
    "     PhoneNumber STRING,\n",
    "     Gender STRING,\n",
    "     DOB DATE,\n",
    "     Address STRING,\n",
    "     SRC_ModifiedDate TIMESTAMP,\n",
    "     datasource STRING,\n",
    "     is_quarantined BOOLEAN,\n",
    "     inserted_date TIMESTAMP,\n",
    "     modified_date TIMESTAMP,\n",
    "     is_current BOOLEAN\n",
    " )\n",
    " USING DELTA;"
   ]
  },
  {
   "cell_type": "code",
   "execution_count": 0,
   "metadata": {
    "application/vnd.databricks.v1+cell": {
     "cellMetadata": {
      "byteLimit": 2048000,
      "implicitDf": true,
      "rowLimit": 10000
     },
     "inputWidgets": {},
     "nuid": "3b64a1d5-c042-4017-9955-ed1b2c36f325",
     "showTitle": false,
     "tableResultSettingsMap": {},
     "title": ""
    }
   },
   "outputs": [],
   "source": [
    " %sql\n",
    "\n",
    " select * from silver.patients"
   ]
  },
  {
   "cell_type": "code",
   "execution_count": 0,
   "metadata": {
    "application/vnd.databricks.v1+cell": {
     "cellMetadata": {
      "byteLimit": 2048000,
      "implicitDf": true,
      "rowLimit": 10000
     },
     "inputWidgets": {},
     "nuid": "43a131bc-36e4-4add-801d-5dbe7caf63e4",
     "showTitle": false,
     "tableResultSettingsMap": {},
     "title": ""
    }
   },
   "outputs": [],
   "source": [
    " %sql\n",
    " -- Step 1: Mark existing records as historical (is_current = false) for patients that will be updated\n",
    " MERGE INTO silver.patients AS target\n",
    " USING quality_checks AS source\n",
    " ON target.Patient_Key = source.Patient_Key\n",
    " AND target.is_current = true \n",
    " WHEN MATCHED\n",
    " AND (\n",
    "     target.SRC_PatientID <> source.SRC_PatientID OR\n",
    "     target.FirstName <> source.FirstName OR\n",
    "     target.LastName <> source.LastName OR\n",
    "     target.MiddleName <> source.MiddleName OR\n",
    "     target.SSN <> source.SSN OR\n",
    "     target.PhoneNumber <> source.PhoneNumber OR\n",
    "     target.Gender <> source.Gender OR\n",
    "     target.DOB <> source.DOB OR\n",
    "     target.Address <> source.Address OR\n",
    "     target.SRC_ModifiedDate <> source.SRC_ModifiedDate OR\n",
    "     target.datasource <> source.datasource OR\n",
    "     target.is_quarantined <> source.is_quarantined\n",
    " )\n",
    " THEN UPDATE SET\n",
    "     target.is_current = false,\n",
    "     target.modified_date = current_timestamp()\n",
    "\n",
    "\n",
    " WHEN NOT MATCHED\n",
    " THEN INSERT (\n",
    "     Patient_Key,\n",
    "     SRC_PatientID,\n",
    "     FirstName,\n",
    "     LastName,\n",
    "     MiddleName,\n",
    "     SSN,\n",
    "     PhoneNumber,\n",
    "     Gender,\n",
    "     DOB,\n",
    "     Address,\n",
    "     SRC_ModifiedDate,\n",
    "     datasource,\n",
    "     is_quarantined,\n",
    "     inserted_date,\n",
    "     modified_date,\n",
    "     is_current\n",
    " )\n",
    " VALUES (\n",
    "     source.Patient_Key,\n",
    "     source.SRC_PatientID,\n",
    "     source.FirstName,\n",
    "     source.LastName,\n",
    "     source.MiddleName,\n",
    "     source.SSN,\n",
    "     source.PhoneNumber,\n",
    "     source.Gender,\n",
    "     source.DOB,\n",
    "     source.Address,\n",
    "     source.SRC_ModifiedDate,\n",
    "     source.datasource,\n",
    "     source.is_quarantined,\n",
    "     current_timestamp(), -- Set inserted_date to current timestamp\n",
    "     current_timestamp(), -- Set modified_date to current timestamp\n",
    "     true -- Mark as current\n",
    " );\n",
    "\n",
    "\n",
    "\n"
   ]
  },
  {
   "cell_type": "code",
   "execution_count": 0,
   "metadata": {
    "application/vnd.databricks.v1+cell": {
     "cellMetadata": {},
     "inputWidgets": {},
     "nuid": "d46e646d-d883-4cf3-8245-08e4e3ebb6a2",
     "showTitle": false,
     "tableResultSettingsMap": {},
     "title": ""
    }
   },
   "outputs": [],
   "source": []
  },
  {
   "cell_type": "code",
   "execution_count": 0,
   "metadata": {
    "application/vnd.databricks.v1+cell": {
     "cellMetadata": {
      "byteLimit": 2048000,
      "implicitDf": true,
      "rowLimit": 10000
     },
     "inputWidgets": {},
     "nuid": "74e46de3-4082-4383-ba24-46117a04f99f",
     "showTitle": false,
     "tableResultSettingsMap": {},
     "title": ""
    }
   },
   "outputs": [],
   "source": [
    "\n",
    "\n",
    "%sql\n",
    "MERGE INTO silver.patients AS target\n",
    "USING quality_checks AS source\n",
    "ON target.Patient_Key = source.Patient_Key\n",
    "AND target.is_current = true \n",
    "-- Step 2: Insert new and updated records into the Delta table, marking them as current\n",
    "WHEN NOT MATCHED\n",
    "THEN INSERT (\n",
    "    Patient_Key,\n",
    "    SRC_PatientID,\n",
    "    FirstName,\n",
    "    LastName,\n",
    "    MiddleName,\n",
    "    SSN,\n",
    "    PhoneNumber,\n",
    "    Gender,\n",
    "    DOB,\n",
    "    Address,\n",
    "    SRC_ModifiedDate,\n",
    "    datasource,\n",
    "    is_quarantined,\n",
    "    inserted_date,\n",
    "    modified_date,\n",
    "    is_current\n",
    ")\n",
    "VALUES (\n",
    "    source.Patient_Key,\n",
    "    source.SRC_PatientID,\n",
    "    source.FirstName,\n",
    "    source.LastName,\n",
    "    source.MiddleName,\n",
    "    source.SSN,\n",
    "    source.PhoneNumber,\n",
    "    source.Gender,\n",
    "    source.DOB,\n",
    "    source.Address,\n",
    "    source.SRC_ModifiedDate,\n",
    "    source.datasource,\n",
    "    source.is_quarantined,\n",
    "    current_timestamp(), -- Set inserted_date to current timestamp\n",
    "    current_timestamp(), -- Set modified_date to current timestamp\n",
    "    true -- Mark as current\n",
    ")"
   ]
  },
  {
   "cell_type": "code",
   "execution_count": 0,
   "metadata": {
    "application/vnd.databricks.v1+cell": {
     "cellMetadata": {
      "byteLimit": 2048000,
      "implicitDf": true,
      "rowLimit": 10000
     },
     "inputWidgets": {},
     "nuid": "894ab133-478e-44ff-ab96-bfe07d51ddff",
     "showTitle": false,
     "tableResultSettingsMap": {},
     "title": ""
    }
   },
   "outputs": [],
   "source": [
    "%sql\n",
    "select count(*), patient_key from silver.patients \n",
    "group by patient_key\n",
    "order by 1 desc"
   ]
  },
  {
   "cell_type": "code",
   "execution_count": 0,
   "metadata": {
    "application/vnd.databricks.v1+cell": {
     "cellMetadata": {},
     "inputWidgets": {},
     "nuid": "90f30c69-632d-4dc8-9c0d-bc715f5a59fe",
     "showTitle": false,
     "tableResultSettingsMap": {},
     "title": ""
    }
   },
   "outputs": [],
   "source": [
    "%sql\n",
    "\n",
    "select * from silver.patients  where is_quarantined = true"
   ]
  },
  {
   "cell_type": "code",
   "execution_count": 0,
   "metadata": {
    "application/vnd.databricks.v1+cell": {
     "cellMetadata": {},
     "inputWidgets": {},
     "nuid": "17fb5104-bc65-40c0-804b-3113d24b293b",
     "showTitle": false,
     "tableResultSettingsMap": {},
     "title": ""
    }
   },
   "outputs": [],
   "source": [
    "%sql\n",
    "\n",
    "DELETE FROM silver.patients\n",
    "WHERE is_quarantined = true;\n"
   ]
  }
 ],
 "metadata": {
  "application/vnd.databricks.v1+notebook": {
   "computePreferences": null,
   "dashboards": [],
   "environmentMetadata": {
    "base_environment": "",
    "environment_version": "2"
   },
   "language": "python",
   "notebookMetadata": {
    "mostRecentlyExecutedCommandWithImplicitDF": {
     "commandId": 7827620141218001,
     "dataframes": [
      "_sqldf"
     ]
    },
    "pythonIndentUnit": 4
   },
   "notebookName": "Patient",
   "widgets": {}
  },
  "language_info": {
   "name": "python"
  }
 },
 "nbformat": 4,
 "nbformat_minor": 0
}
