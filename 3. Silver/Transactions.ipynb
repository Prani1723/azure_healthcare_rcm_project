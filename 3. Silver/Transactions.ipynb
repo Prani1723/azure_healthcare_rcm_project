{
 "cells": [
  {
   "cell_type": "code",
   "execution_count": 0,
   "metadata": {
    "application/vnd.databricks.v1+cell": {
     "cellMetadata": {
      "byteLimit": 2048000,
      "rowLimit": 10000
     },
     "inputWidgets": {},
     "nuid": "fd4424c2-1005-4a5a-9655-7a026df9e7b9",
     "showTitle": false,
     "tableResultSettingsMap": {},
     "title": ""
    }
   },
   "outputs": [],
   "source": [
    "#Reading Hospital A patient data\n",
    "df_hosa=spark.read.parquet(\"/mnt/bronze/hosa/transactions\")\n",
    "df_hosa.createOrReplaceTempView(\"transactions_hosa\")\n",
    "\n",
    "#Reading Hospital B patient data\n",
    "df_hosb=spark.read.parquet(\"/mnt/bronze/hosb/transactions\")\n",
    "df_hosb.createOrReplaceTempView(\"transactions_hosb\")"
   ]
  },
  {
   "cell_type": "code",
   "execution_count": 0,
   "metadata": {
    "application/vnd.databricks.v1+cell": {
     "cellMetadata": {},
     "inputWidgets": {},
     "nuid": "ecd8e416-cf0c-46d1-a58a-e681a2b4bda0",
     "showTitle": false,
     "tableResultSettingsMap": {},
     "title": ""
    }
   },
   "outputs": [],
   "source": [
    "df_merged = df_hosa.unionByName(df_hosb)"
   ]
  },
  {
   "cell_type": "code",
   "execution_count": 0,
   "metadata": {
    "application/vnd.databricks.v1+cell": {
     "cellMetadata": {
      "byteLimit": 2048000,
      "implicitDf": true,
      "rowLimit": 10000
     },
     "inputWidgets": {},
     "nuid": "d1ae8b66-3319-4da3-a46e-4a463e5d9e1f",
     "showTitle": false,
     "tableResultSettingsMap": {},
     "title": ""
    }
   },
   "outputs": [],
   "source": [
    "\n",
    "\n",
    "display(df_hosa)"
   ]
  },
  {
   "cell_type": "code",
   "execution_count": 0,
   "metadata": {
    "application/vnd.databricks.v1+cell": {
     "cellMetadata": {
      "byteLimit": 2048000,
      "rowLimit": 10000
     },
     "inputWidgets": {},
     "nuid": "62476b34-42f6-4e1e-829d-709b5b1bfe59",
     "showTitle": false,
     "tableResultSettingsMap": {},
     "title": ""
    }
   },
   "outputs": [],
   "source": [
    "df_merged.createOrReplaceTempView(\"transactions\")"
   ]
  },
  {
   "cell_type": "code",
   "execution_count": 0,
   "metadata": {
    "application/vnd.databricks.v1+cell": {
     "cellMetadata": {
      "byteLimit": 2048000,
      "implicitDf": true,
      "rowLimit": 10000
     },
     "inputWidgets": {},
     "nuid": "24c26265-86f7-4413-afb6-baec2f013867",
     "showTitle": false,
     "tableResultSettingsMap": {},
     "title": ""
    }
   },
   "outputs": [],
   "source": [
    "%sql\n",
    "create or replace temp view quality_checks as\n",
    "select \n",
    "concat(TransactionID, '-', datasource) as TransactionID,\n",
    "TransactionID as SRC_TransactionID,\n",
    "EncounterID,\n",
    "PatientID,\n",
    "ProviderID,\n",
    "DeptID,\n",
    "VisitDate,\n",
    "ServiceDate,\n",
    "PaidDate,\n",
    "VisitType,\n",
    "Amount,\n",
    "AmountType,\n",
    "PaidAmount,\n",
    "ClaimID,\n",
    "PayorID,\n",
    "ProcedureCode,\n",
    "ICDCode,\n",
    "LineOfBusiness,\n",
    "MedicaidID,\n",
    "MedicareID,\n",
    "InsertDate AS SRC_InsertDate,\n",
    "ModifiedDate as SRC_ModifiedDate,\n",
    "datasource,\n",
    "     CASE \n",
    "        WHEN TransactionID IS NULL OR EncounterID IS NULL OR ProviderID is null or VisitDate is null then true\n",
    "        else false\n",
    "    end as is_quarantined\n",
    "from transactions\n",
    "    "
   ]
  },
  {
   "cell_type": "code",
   "execution_count": 0,
   "metadata": {
    "application/vnd.databricks.v1+cell": {
     "cellMetadata": {
      "byteLimit": 2048000,
      "implicitDf": true,
      "rowLimit": 10000
     },
     "inputWidgets": {},
     "nuid": "44519188-d53b-4dc5-b216-5d45546e71d4",
     "showTitle": false,
     "tableResultSettingsMap": {},
     "title": ""
    }
   },
   "outputs": [],
   "source": [
    "%sql\n",
    "\n",
    "create table silver.transactions (\n",
    "    TransactionID string,\n",
    "    SRC_TransactionID string,\n",
    "    EncounterID string,\n",
    "    PatientID string,\n",
    "    ProviderID string,\n",
    "    DeptID string,\n",
    "    VisitDate date,\n",
    "    ServiceDate date,\n",
    "    PaidDate date,\n",
    "    VisitType string,\n",
    "    Amount double,\n",
    "    AmountType string,\n",
    "    PaidAmount double,\n",
    "    ClaimID string,\n",
    "    PayorID string,\n",
    "    ProcedureCode integer,\n",
    "    ICDCode string,\n",
    "    LineOfBusiness string,\n",
    "    MedicaidID string,\n",
    "    MedicareID string,\n",
    "    SRC_InsertDate date,\n",
    "    SRC_ModifiedDate date,\n",
    "    datasource string,\n",
    "    is_quarantined boolean,\n",
    "    audit_insertdate timestamp,\n",
    "    audit_modifieddate timestamp,\n",
    "    is_current boolean\n",
    "    )\n",
    "using delta"
   ]
  },
  {
   "cell_type": "code",
   "execution_count": 0,
   "metadata": {
    "application/vnd.databricks.v1+cell": {
     "cellMetadata": {
      "byteLimit": 2048000,
      "implicitDf": true,
      "rowLimit": 10000
     },
     "inputWidgets": {},
     "nuid": "abbe2198-d6e5-4978-8c3d-abccf9815f14",
     "showTitle": false,
     "tableResultSettingsMap": {},
     "title": ""
    }
   },
   "outputs": [],
   "source": [
    "\n",
    "%sql\n",
    "\n",
    "--Update old record to implement SCD Type 2\n",
    "MERGE INTO silver.transactions AS target\n",
    "USING quality_checks AS source \n",
    "ON target.TransactionID = source.TransactionID\n",
    "AND target.is_current = true\n",
    "WHEN MATCHED\n",
    "AND (\n",
    "   target.SRC_TransactionID != source.SRC_TransactionID\n",
    "   OR target.EncounterID != source.EncounterID\n",
    "   OR target.PatientID != source.PatientID\n",
    "   OR target.ProviderID != source.ProviderID\n",
    "   OR target.DeptID != source.DeptID\n",
    "   OR target.VisitDate != source.VisitDate\n",
    "   OR target.ServiceDate != source.ServiceDate\n",
    "   OR target.PaidDate != source.PaidDate\n",
    "   OR target.VisitType != source.VisitType\n",
    "   OR target.Amount != source.Amount\n",
    "   OR target.AmountType != source.AmountType\n",
    "   OR target.PaidAmount != source.PaidAmount\n",
    "   OR target.ClaimID != source.ClaimID\n",
    "   OR target.PayorID != source.PayorID\n",
    "   OR target.ProcedureCode != source.ProcedureCode\n",
    "   OR target.ICDCode != source.ICDCode\n",
    "   OR target.LineOfBusiness != source.LineOfBusiness\n",
    "   OR target.MedicaidID != source.MedicaidID\n",
    "   OR target.MedicareID != source.MedicareID\n",
    "   OR target.SRC_InsertDate != source.SRC_InsertDate\n",
    "   OR target.SRC_ModifiedDate != source.SRC_ModifiedDate\n",
    "   OR target.datasource != source.datasource\n",
    "   OR target.is_quarantined != source.is_quarantined\n",
    " ) THEN\n",
    " UPDATE\n",
    " SET\n",
    "   target.is_current = false,\n",
    "   target.audit_modifieddate = current_timestamp()"
   ]
  },
  {
   "cell_type": "code",
   "execution_count": 0,
   "metadata": {
    "application/vnd.databricks.v1+cell": {
     "cellMetadata": {
      "byteLimit": 2048000,
      "implicitDf": true,
      "rowLimit": 10000
     },
     "inputWidgets": {},
     "nuid": "f0bd2733-3962-470f-8ed2-8e9305ab0a47",
     "showTitle": false,
     "tableResultSettingsMap": {},
     "title": ""
    }
   },
   "outputs": [],
   "source": [
    "\n",
    "\n",
    " %sql\n",
    " -- Insert new record to implement SCD Type 2\n",
    " MERGE INTO silver.transactions AS target USING quality_checks AS source ON target.TransactionID = source.TransactionID\n",
    " AND target.is_current = true\n",
    " WHEN NOT MATCHED THEN\n",
    " INSERT\n",
    "   (\n",
    "     TransactionID,\n",
    "     SRC_TransactionID,\n",
    "     EncounterID,\n",
    "     PatientID,\n",
    "     ProviderID,\n",
    "     DeptID,\n",
    "     VisitDate,\n",
    "     ServiceDate,\n",
    "     PaidDate,\n",
    "     VisitType,\n",
    "     Amount,\n",
    "     AmountType,\n",
    "     PaidAmount,\n",
    "     ClaimID,\n",
    "     PayorID,\n",
    "     ProcedureCode,\n",
    "     ICDCode,\n",
    "     LineOfBusiness,\n",
    "     MedicaidID,\n",
    "     MedicareID,\n",
    "     SRC_InsertDate,\n",
    "     SRC_ModifiedDate,\n",
    "     datasource,\n",
    "     is_quarantined,\n",
    "     audit_insertdate,\n",
    "     audit_modifieddate,\n",
    "     is_current\n",
    "   )\n",
    " VALUES\n",
    "   (\n",
    "     source.TransactionID,\n",
    "     source.SRC_TransactionID,\n",
    "     source.EncounterID,\n",
    "     source.PatientID,\n",
    "     source.ProviderID,\n",
    "     source.DeptID,\n",
    "     source.VisitDate,\n",
    "     source.ServiceDate,\n",
    "     source.PaidDate,\n",
    "     source.VisitType,\n",
    "     source.Amount,\n",
    "     source.AmountType,\n",
    "     source.PaidAmount,\n",
    "     source.ClaimID,\n",
    "     source.PayorID,\n",
    "     source.ProcedureCode,\n",
    "     source.ICDCode,\n",
    "     source.LineOfBusiness,\n",
    "     source.MedicaidID,\n",
    "     source.MedicareID,\n",
    "     source.SRC_InsertDate,\n",
    "     source.SRC_ModifiedDate,\n",
    "     source.datasource,\n",
    "     source.is_quarantined,\n",
    "     current_timestamp(),\n",
    "     current_timestamp(),\n",
    "     true\n",
    "   );"
   ]
  },
  {
   "cell_type": "code",
   "execution_count": 0,
   "metadata": {
    "application/vnd.databricks.v1+cell": {
     "cellMetadata": {
      "byteLimit": 2048000,
      "implicitDf": true,
      "rowLimit": 10000
     },
     "inputWidgets": {},
     "nuid": "c848d88c-5fe2-487c-ace0-26737c820c41",
     "showTitle": false,
     "tableResultSettingsMap": {},
     "title": ""
    }
   },
   "outputs": [],
   "source": [
    "%sql\n",
    "\n",
    "select * from silver.transactions"
   ]
  },
  {
   "cell_type": "code",
   "execution_count": 0,
   "metadata": {
    "application/vnd.databricks.v1+cell": {
     "cellMetadata": {},
     "inputWidgets": {},
     "nuid": "30e3e480-44e2-4c17-bab8-c9314db6bf3d",
     "showTitle": false,
     "tableResultSettingsMap": {},
     "title": ""
    }
   },
   "outputs": [],
   "source": [
    "%sql\n",
    "\n",
    "select * from silver.transactions where is_quarantined = true"
   ]
  }
 ],
 "metadata": {
  "application/vnd.databricks.v1+notebook": {
   "computePreferences": null,
   "dashboards": [],
   "environmentMetadata": {
    "base_environment": "",
    "environment_version": "2"
   },
   "language": "python",
   "notebookMetadata": {
    "mostRecentlyExecutedCommandWithImplicitDF": {
     "commandId": 5514499228730239,
     "dataframes": [
      "_sqldf"
     ]
    },
    "pythonIndentUnit": 4
   },
   "notebookName": "Transactions",
   "widgets": {}
  },
  "language_info": {
   "name": "python"
  }
 },
 "nbformat": 4,
 "nbformat_minor": 0
}
