{
 "cells": [
  {
   "cell_type": "code",
   "execution_count": 0,
   "metadata": {
    "application/vnd.databricks.v1+cell": {
     "cellMetadata": {
      "byteLimit": 2048000,
      "rowLimit": 10000
     },
     "inputWidgets": {},
     "nuid": "d0871354-e402-4a9a-9ed3-0bc425f7005b",
     "showTitle": false,
     "tableResultSettingsMap": {},
     "title": ""
    }
   },
   "outputs": [],
   "source": [
    "from pyspark.sql import SparkSession, functions as f\n",
    "\n",
    "#Reading Hospital A departments data\n",
    "df_hosa= spark.read.parquet(\"dbfs:/mnt/bronze/hosa/departments\")\n",
    "\n",
    "#Reading Hospital B departments data\n",
    "df_hosb= spark.read.parquet(\"dbfs:/mnt/bronze/hosb/departments\")\n",
    "\n",
    "#union two departments dataframes\n",
    "df_merged= df_hosa.unionByName(df_hosb)\n",
    "\n",
    "# create the dept_id column and rename deptid to src_dept_id\n",
    "df_merged= df_merged.withColumn(\"SRC_Dept_id\" , f.col(\"deptid\")) \\\n",
    "                    .withColumn(\"Dept_id\" , f.concat(f.col(\"deptid\"), f.lit(\"-\"), f.col(\"datasource\"))) \\\n",
    "                    .drop(\"deptid\")\n",
    "\n",
    "df_merged.createOrReplaceTempView(\"departments\")"
   ]
  },
  {
   "cell_type": "code",
   "execution_count": 0,
   "metadata": {
    "application/vnd.databricks.v1+cell": {
     "cellMetadata": {
      "byteLimit": 2048000,
      "implicitDf": true,
      "rowLimit": 10000
     },
     "inputWidgets": {},
     "nuid": "61bc4b23-0076-426f-a039-64c99972b502",
     "showTitle": false,
     "tableResultSettingsMap": {},
     "title": ""
    }
   },
   "outputs": [],
   "source": [
    "df_hosb.count()"
   ]
  },
  {
   "cell_type": "code",
   "execution_count": 0,
   "metadata": {
    "application/vnd.databricks.v1+cell": {
     "cellMetadata": {
      "byteLimit": 2048000,
      "implicitDf": true,
      "rowLimit": 10000
     },
     "inputWidgets": {},
     "nuid": "48b0c086-55f1-4438-822f-1a5223f60dd0",
     "showTitle": false,
     "tableResultSettingsMap": {},
     "title": ""
    }
   },
   "outputs": [],
   "source": [
    "%sql\n",
    "CREATE SCHEMA IF NOT EXISTS silver;\n",
    "\n",
    "CREATE TABLE if not exists silver.departments (\n",
    "  Dept_id string,\n",
    "  SRC_Dept_id string,\n",
    "  Name string,\n",
    "  datasource string,\n",
    "  is_quarantined BOOLEAN\n",
    ")\n",
    "USING DELTA"
   ]
  },
  {
   "cell_type": "code",
   "execution_count": 0,
   "metadata": {
    "application/vnd.databricks.v1+cell": {
     "cellMetadata": {
      "byteLimit": 2048000,
      "implicitDf": true,
      "rowLimit": 10000
     },
     "inputWidgets": {},
     "nuid": "dadba3d6-ef72-4222-98e6-0af77d025e53",
     "showTitle": false,
     "tableResultSettingsMap": {},
     "title": ""
    }
   },
   "outputs": [],
   "source": [
    "%sql\n",
    "DESCRIBE HISTORY silver.departments ;\n"
   ]
  },
  {
   "cell_type": "code",
   "execution_count": 0,
   "metadata": {
    "application/vnd.databricks.v1+cell": {
     "cellMetadata": {
      "byteLimit": 2048000,
      "implicitDf": true,
      "rowLimit": 10000
     },
     "inputWidgets": {},
     "nuid": "31655edc-c13a-48e4-81a5-976e74595914",
     "showTitle": false,
     "tableResultSettingsMap": {},
     "title": ""
    }
   },
   "outputs": [],
   "source": [
    "%sql\n",
    "\n",
    "truncate table silver.departments;;"
   ]
  },
  {
   "cell_type": "code",
   "execution_count": 0,
   "metadata": {
    "application/vnd.databricks.v1+cell": {
     "cellMetadata": {
      "byteLimit": 2048000,
      "implicitDf": true,
      "rowLimit": 10000
     },
     "inputWidgets": {},
     "nuid": "e48ec04a-dac6-496d-98f0-16f829d63798",
     "showTitle": false,
     "tableResultSettingsMap": {},
     "title": ""
    }
   },
   "outputs": [],
   "source": [
    "%sql\n",
    "truncate table silver.departments;;\n",
    "INSERT INTO silver.departments \n",
    "SELECT \n",
    "Dept_id , \n",
    "SRC_Dept_id, \n",
    "Name, \n",
    "Datasource, \n",
    "    CASE \n",
    "        WHEN SRC_Dept_id IS NULL Or Name IS NULL THEN true\n",
    "        ELSE false\n",
    "        END as is_quarantined\n",
    "from departments"
   ]
  },
  {
   "cell_type": "code",
   "execution_count": 0,
   "metadata": {
    "application/vnd.databricks.v1+cell": {
     "cellMetadata": {
      "byteLimit": 2048000,
      "implicitDf": true,
      "rowLimit": 10000
     },
     "inputWidgets": {},
     "nuid": "d10afb98-9a52-414b-ad4f-e03520944322",
     "showTitle": false,
     "tableResultSettingsMap": {},
     "title": ""
    }
   },
   "outputs": [],
   "source": [
    "%sql\n",
    "\n",
    "select * from silver.departments "
   ]
  },
  {
   "cell_type": "code",
   "execution_count": 0,
   "metadata": {
    "application/vnd.databricks.v1+cell": {
     "cellMetadata": {},
     "inputWidgets": {},
     "nuid": "8f23bbcf-5d2d-44e2-80d3-cb27fae0de33",
     "showTitle": false,
     "tableResultSettingsMap": {},
     "title": ""
    }
   },
   "outputs": [],
   "source": [
    " "
   ]
  }
 ],
 "metadata": {
  "application/vnd.databricks.v1+notebook": {
   "computePreferences": null,
   "dashboards": [],
   "environmentMetadata": {
    "base_environment": "",
    "environment_version": "2"
   },
   "language": "python",
   "notebookMetadata": {
    "mostRecentlyExecutedCommandWithImplicitDF": {
     "commandId": 8572057793074222,
     "dataframes": [
      "_sqldf"
     ]
    },
    "pythonIndentUnit": 4
   },
   "notebookName": "Departments_F",
   "widgets": {}
  },
  "language_info": {
   "name": "python"
  }
 },
 "nbformat": 4,
 "nbformat_minor": 0
}
